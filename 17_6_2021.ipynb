{
  "nbformat": 4,
  "nbformat_minor": 0,
  "metadata": {
    "colab": {
      "name": "17-6-2021.ipynb",
      "provenance": [],
      "authorship_tag": "ABX9TyM81v5xjwViyjWt50OgVuY9",
      "include_colab_link": true
    },
    "kernelspec": {
      "name": "python3",
      "display_name": "Python 3"
    },
    "language_info": {
      "name": "python"
    }
  },
  "cells": [
    {
      "cell_type": "markdown",
      "metadata": {
        "id": "view-in-github",
        "colab_type": "text"
      },
      "source": [
        "<a href=\"https://colab.research.google.com/github/pravallika5F3/kitsgithub/blob/master/17_6_2021.ipynb\" target=\"_parent\"><img src=\"https://colab.research.google.com/assets/colab-badge.svg\" alt=\"Open In Colab\"/></a>"
      ]
    },
    {
      "cell_type": "code",
      "metadata": {
        "colab": {
          "base_uri": "https://localhost:8080/"
        },
        "id": "eC137xlUiT-N",
        "outputId": "d2a5fbab-3202-4983-b7ab-e4be2e3fd14b"
      },
      "source": [
        " \n",
        "n=int( input ('enter the height'))\n",
        "i=1\n",
        "while i<=n:\n",
        "  j=1\n",
        "  while(j<=i): \n",
        "    print('*',end=' ')\n",
        "    j+=1\n",
        "  print()\n",
        "  i+=1"
      ],
      "execution_count": 27,
      "outputs": [
        {
          "output_type": "stream",
          "text": [
            "enter the height5\n",
            "* \n",
            "* * \n",
            "* * * \n",
            "* * * * \n",
            "* * * * * \n"
          ],
          "name": "stdout"
        }
      ]
    }
  ]
}